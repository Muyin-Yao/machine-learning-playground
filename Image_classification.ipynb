{
  "nbformat": 4,
  "nbformat_minor": 0,
  "metadata": {
    "colab": {
      "provenance": [],
      "collapsed_sections": [
        "-Szm7BEXuoEF"
      ]
    },
    "kernelspec": {
      "name": "python3",
      "display_name": "Python 3"
    },
    "language_info": {
      "name": "python"
    }
  },
  "cells": [
    {
      "cell_type": "markdown",
      "source": [
        "## Image Classification Using Deep Learning: A Case Study with Fashion MNIST\n",
        "\n",
        "**Abstract**\n",
        "This report presents an image classification model using deep learning techniques applied to the Fashion MNIST dataset. Model accuracy was improved from the initial 76.45% to near 90%. Various data augmentation strategies were explore to enhance model robustness. The architecture, training procedure, and results are discussed in detail."
      ],
      "metadata": {
        "id": "MsPdPGtFt6qa"
      }
    },
    {
      "cell_type": "code",
      "execution_count": null,
      "metadata": {
        "colab": {
          "base_uri": "https://localhost:8080/"
        },
        "id": "m3WPRhWgXgfi",
        "outputId": "cd2fd1b8-32c0-40df-e010-213661a8abd3"
      },
      "outputs": [
        {
          "output_type": "stream",
          "name": "stdout",
          "text": [
            "2.15.0\n"
          ]
        }
      ],
      "source": [
        "# TensorFlow and tf.keras\n",
        "import tensorflow as tf\n",
        "\n",
        "# Helper libraries\n",
        "import numpy as np\n",
        "import matplotlib.pyplot as plt\n",
        "\n",
        "# Data augmentation\n",
        "import cv2\n",
        "from tensorflow.keras.preprocessing.image import ImageDataGenerator\n",
        "\n",
        "print(tf.__version__)"
      ]
    },
    {
      "cell_type": "code",
      "source": [
        "from tensorflow import keras"
      ],
      "metadata": {
        "id": "UxPqIVleYKg3"
      },
      "execution_count": null,
      "outputs": []
    },
    {
      "cell_type": "markdown",
      "source": [
        "**Dataset Description**\n",
        "The Fashion MNIST dataset consists of 60,000 training images and 10,000 test images, each of size 28x28 pixels, with corresponding labels ranging from 0 to 9 representing different fashion items."
      ],
      "metadata": {
        "id": "iRAlMgfpuBFC"
      }
    },
    {
      "cell_type": "code",
      "source": [
        "# import data\n",
        "data = tf.keras.datasets.fashion_mnist\n",
        "(train_images, train_labels), (test_images, test_labels) = data.load_data()\n",
        "\n",
        "class_names = ['T-shirt/top', 'Trouser', 'Pullover', 'Dress', 'Coat',\n",
        "               'Sandal', 'Shirt', 'Sneaker', 'Bag', 'Ankle boot']\n",
        "\n",
        "plt.imshow(train_images[0]) #, cmap=plt.cm.binary makes the image black-white"
      ],
      "metadata": {
        "colab": {
          "base_uri": "https://localhost:8080/",
          "height": 447
        },
        "collapsed": true,
        "id": "cxGNo-ocYWne",
        "outputId": "e964e251-87f4-4d01-96ee-de12be0ed14d"
      },
      "execution_count": null,
      "outputs": [
        {
          "output_type": "execute_result",
          "data": {
            "text/plain": [
              "<matplotlib.image.AxesImage at 0x7b21031cacb0>"
            ]
          },
          "metadata": {},
          "execution_count": 4
        },
        {
          "output_type": "display_data",
          "data": {
            "text/plain": [
              "<Figure size 640x480 with 1 Axes>"
            ],
            "image/png": "[encoded data removed]"
          },
          "metadata": {}
        }
      ]
    },
    {
      "cell_type": "markdown",
      "source": [
        "### Model Architecture\n",
        "A convolutional neural network (CNN) is used for classification. The architecture consists of multiple convolutional layers followed by max-pooling layers and dense layers.\n",
        "\n",
        "Note, model architecture is from https://www.tensorflow.org/tutorials/keras/classification. It is not the focus of this exercise, thus alternative model structures are not explored."
      ],
      "metadata": {
        "id": "-Szm7BEXuoEF"
      }
    },
    {
      "cell_type": "code",
      "source": [
        "model = keras.Sequential([\n",
        "    keras.layers.Flatten(input_shape=(28,28)),  # input layer\n",
        "    keras.layers.Dense(128, activation='relu'),  # hidden layer\n",
        "    keras.layers.Dense(10, activation='softmax')  # output layer, softmax pick values, sums to 1\n",
        "])\n",
        "\n",
        "model.compile(optimizer=\"adam\", loss=tf.keras.losses.SparseCategoricalCrossentropy(from_logits=True), metrics=[\"accuracy\"])"
      ],
      "metadata": {
        "collapsed": true,
        "id": "_6bcrCKAaHhk"
      },
      "execution_count": null,
      "outputs": []
    },
    {
      "cell_type": "markdown",
      "source": [],
      "metadata": {
        "id": "ibKOAXutLD-K"
      }
    },
    {
      "cell_type": "code",
      "source": [
        "# Train the model.\n",
        "baseline_model = model.fit(train_images, train_labels, epochs=5)"
      ],
      "metadata": {
        "colab": {
          "base_uri": "https://localhost:8080/"
        },
        "id": "uSjcbmb0u-3D",
        "outputId": "689279e1-82a5-44f4-a2c0-b738986a031e"
      },
      "execution_count": null,
      "outputs": [
        {
          "output_type": "stream",
          "name": "stdout",
          "text": [
            "Epoch 1/5\n"
          ]
        },
        {
          "output_type": "stream",
          "name": "stderr",
          "text": [
            "/usr/local/lib/python3.10/dist-packages/keras/src/backend.py:5727: UserWarning: \"`sparse_categorical_crossentropy` received `from_logits=True`, but the `output` argument was produced by a Softmax activation and thus does not represent logits. Was this intended?\n",
            "  output, from_logits = _get_logits(\n"
          ]
        },
        {
          "output_type": "stream",
          "name": "stdout",
          "text": [
            "1875/1875 [==============================] - 16s 8ms/step - loss: 2.7124 - accuracy: 0.6578\n",
            "Epoch 2/5\n",
            "1875/1875 [==============================] - 11s 6ms/step - loss: 0.7645 - accuracy: 0.7157\n",
            "Epoch 3/5\n",
            "1875/1875 [==============================] - 10s 5ms/step - loss: 0.6764 - accuracy: 0.7329\n",
            "Epoch 4/5\n",
            "1875/1875 [==============================] - 10s 5ms/step - loss: 0.6439 - accuracy: 0.7420\n",
            "Epoch 5/5\n",
            "1875/1875 [==============================] - 12s 7ms/step - loss: 0.6202 - accuracy: 0.7489\n"
          ]
        }
      ]
    },
    {
      "cell_type": "code",
      "source": [
        "test_loss, test_acc = model.evaluate(test_images, test_labels, verbose=2)\n",
        "\n",
        "print('\\nTest accuracy:', test_acc)"
      ],
      "metadata": {
        "colab": {
          "base_uri": "https://localhost:8080/"
        },
        "id": "0V_QUTQ8vV5d",
        "outputId": "729d003d-1514-40c5-a983-f13ceb0915d3"
      },
      "execution_count": null,
      "outputs": [
        {
          "output_type": "stream",
          "name": "stdout",
          "text": [
            "313/313 - 1s - loss: 0.6596 - accuracy: 0.7393 - 1s/epoch - 4ms/step\n",
            "\n",
            "Test accuracy: 0.739300012588501\n"
          ]
        }
      ]
    },
    {
      "cell_type": "markdown",
      "source": [
        "### Data Preprocessing and Augmentation\n",
        "Data augmentation techniques are applied to artificially increase the size of the training dataset, which helps in making the model more robust. Techniques such as rotation, zoom, shear, and flip are employed."
      ],
      "metadata": {
        "id": "U2KeV7z4ugoY"
      }
    },
    {
      "cell_type": "code",
      "source": [
        "data = tf.keras.datasets.fashion_mnist\n",
        "(train_images, train_labels), (test_images, test_labels) = data.load_data()\n",
        "\n",
        "# Normalize the images to the range [0, 1]\n",
        "train_images = train_images / 255.0\n",
        "test_images = test_images / 255.0\n",
        "\n",
        "# Reshape images to add an extra dimension representing the single color channel\n",
        "train_images = train_images.reshape(-1, 28, 28, 1)\n",
        "test_images = test_images.reshape(-1, 28, 28, 1)"
      ],
      "metadata": {
        "id": "79Ed00F41ZWR"
      },
      "execution_count": null,
      "outputs": []
    },
    {
      "cell_type": "markdown",
      "source": [
        "**Experiment 1**: Flip images horizontally.\n",
        "\n",
        "Model accuracy: 88.38%"
      ],
      "metadata": {
        "id": "lqN_-o9iy7vf"
      }
    },
    {
      "cell_type": "code",
      "source": [
        "train_images_hflip, train_labels_hflip, test_images_hflip, test_labels_hflip = train_images, train_labels, test_images, test_labels\n",
        "\n",
        "# Define data augmentation\n",
        "datagen_hflip = ImageDataGenerator(horizontal_flip=True)\n",
        "\n",
        "# Fit the data generator\n",
        "datagen_hflip.fit(train_images_hflip)\n",
        "\n",
        "# Display some augmented images\n",
        "for X_batch, y_batch in datagen_hflip.flow(train_images_hflip, train_labels_hflip, batch_size=9, seed=42):\n",
        "    plt.figure(figsize=(6, 6))\n",
        "    for i in range(9):\n",
        "        plt.subplot(3, 3, i + 1)\n",
        "        plt.imshow(X_batch[i].reshape(28, 28), cmap='gray')\n",
        "        plt.axis('off')\n",
        "    plt.show()\n",
        "    break"
      ],
      "metadata": {
        "colab": {
          "base_uri": "https://localhost:8080/",
          "height": 499
        },
        "id": "PPywSaYYugAu",
        "outputId": "409eabba-78a8-4915-e8fb-de33c1bd63fb"
      },
      "execution_count": null,
      "outputs": [
        {
          "output_type": "display_data",
          "data": {
            "text/plain": [
              "<Figure size 600x600 with 9 Axes>"
            ],
            "image/png": "[encoded data removed]"
          },
          "metadata": {}
        }
      ]
    },
    {
      "cell_type": "code",
      "source": [
        "model_exp_1 = model.fit(train_images_hflip, train_labels_hflip, epochs=5)\n",
        "test_loss, test_acc = model.evaluate(test_images_hflip, test_labels_hflip, verbose=2)\n",
        "print('\\nTest accuracy:', test_acc)"
      ],
      "metadata": {
        "colab": {
          "base_uri": "https://localhost:8080/"
        },
        "id": "bmCfMmciwRT_",
        "outputId": "9ea4f94b-d631-4641-b6d0-b019aad780f2"
      },
      "execution_count": null,
      "outputs": [
        {
          "output_type": "stream",
          "name": "stdout",
          "text": [
            "Epoch 1/5\n",
            "1875/1875 [==============================] - 9s 4ms/step - loss: 0.6958 - accuracy: 0.7568\n",
            "Epoch 2/5\n",
            "1875/1875 [==============================] - 10s 5ms/step - loss: 0.4166 - accuracy: 0.8527\n",
            "Epoch 3/5\n",
            "1875/1875 [==============================] - 12s 6ms/step - loss: 0.3814 - accuracy: 0.8649\n",
            "Epoch 4/5\n",
            "1875/1875 [==============================] - 8s 4ms/step - loss: 0.3566 - accuracy: 0.8723\n",
            "Epoch 5/5\n",
            "1875/1875 [==============================] - 11s 6ms/step - loss: 0.3367 - accuracy: 0.8785\n",
            "313/313 - 1s - loss: 0.3735 - accuracy: 0.8658 - 1s/epoch - 4ms/step\n",
            "\n",
            "Test accuracy: 0.8658000230789185\n"
          ]
        }
      ]
    },
    {
      "cell_type": "markdown",
      "source": [
        "**Experiment 2**: Flip image vertically\n",
        "\n",
        "Model accuracy: 88.41%.\n"
      ],
      "metadata": {
        "id": "7kcw9Ax827Zp"
      }
    },
    {
      "cell_type": "code",
      "source": [
        "train_images_vflip, train_labels_vflip, test_images_vflip, test_labels_vflip = train_images, train_labels, test_images, test_labels\n",
        "\n",
        "# Define data augmentation\n",
        "datagen_vflip = ImageDataGenerator(vertical_flip=True)\n",
        "\n",
        "# Fit the data generator\n",
        "datagen_vflip.fit(train_images_vflip)\n",
        "\n",
        "# Display some augmented images\n",
        "for X_batch, y_batch in datagen_vflip.flow(train_images_vflip, train_labels_vflip, batch_size=9, seed=42):\n",
        "    plt.figure(figsize=(6, 6))\n",
        "    for i in range(9):\n",
        "        plt.subplot(3, 3, i + 1)\n",
        "        plt.imshow(X_batch[i].reshape(28, 28), cmap='gray')\n",
        "        plt.axis('off')\n",
        "    plt.show()\n",
        "    break"
      ],
      "metadata": {
        "colab": {
          "base_uri": "https://localhost:8080/",
          "height": 499
        },
        "id": "4Zh9IYhJ2hwd",
        "outputId": "07a059a0-7b80-46b1-c3ce-8f01295dcd68"
      },
      "execution_count": null,
      "outputs": [
        {
          "output_type": "display_data",
          "data": {
            "text/plain": [
              "<Figure size 600x600 with 9 Axes>"
            ],
            "image/png": "[encoded data removed]"
          },
          "metadata": {}
        }
      ]
    },
    {
      "cell_type": "code",
      "source": [
        "model_exp_2 = model.fit(train_images_vflip, train_labels_vflip, epochs=5)\n",
        "test_loss, test_acc = model.evaluate(test_images_vflip, test_labels_vflip, verbose=2)\n",
        "print('\\nTest accuracy:', test_acc)"
      ],
      "metadata": {
        "colab": {
          "base_uri": "https://localhost:8080/"
        },
        "id": "fZTQESxI3HS6",
        "outputId": "4d261fb0-bb47-49ae-9186-fdb9c1dff1b1"
      },
      "execution_count": null,
      "outputs": [
        {
          "output_type": "stream",
          "name": "stdout",
          "text": [
            "Epoch 1/5\n",
            "1875/1875 [==============================] - 13s 7ms/step - loss: 0.3220 - accuracy: 0.8834\n",
            "Epoch 2/5\n",
            "1875/1875 [==============================] - 11s 6ms/step - loss: 0.3089 - accuracy: 0.8866\n",
            "Epoch 3/5\n",
            "1875/1875 [==============================] - 10s 5ms/step - loss: 0.2984 - accuracy: 0.8899\n",
            "Epoch 4/5\n",
            "1875/1875 [==============================] - 11s 6ms/step - loss: 0.2911 - accuracy: 0.8931\n",
            "Epoch 5/5\n",
            "1875/1875 [==============================] - 11s 6ms/step - loss: 0.2795 - accuracy: 0.8970\n",
            "313/313 - 2s - loss: 0.3584 - accuracy: 0.8743 - 2s/epoch - 6ms/step\n",
            "\n",
            "Test accuracy: 0.8743000030517578\n"
          ]
        }
      ]
    },
    {
      "cell_type": "markdown",
      "source": [
        "**Experiment 3**: Calculate Distance (Distance Transformation)\n",
        "\n",
        "Model accuracy: 81.95%\n"
      ],
      "metadata": {
        "id": "Ivg8N2pY3kdH"
      }
    },
    {
      "cell_type": "code",
      "source": [
        "def distance_transform(images):\n",
        "    transformed_images = []\n",
        "    for img in images:\n",
        "        dist = cv2.distanceTransform((img * 255).astype(np.uint8), cv2.DIST_L2, 3)\n",
        "        dist = cv2.normalize(dist, dist, 0, 1.0, cv2.NORM_MINMAX)\n",
        "        transformed_images.append(dist)\n",
        "    return np.array(transformed_images)\n",
        "\n",
        "# Apply distance transformation\n",
        "train_images_distance = distance_transform(train_images[..., 0])\n",
        "train_images_distance = train_images_distance[..., np.newaxis]\n",
        "train_labels_distance = train_labels\n",
        "\n",
        "# Display some transformed images\n",
        "plt.figure(figsize=(6, 6))\n",
        "for i in range(9):\n",
        "    plt.subplot(3, 3, i + 1)\n",
        "    plt.imshow(train_images_distance[i].reshape(28, 28), cmap='gray')\n",
        "    plt.axis('off')\n",
        "plt.show()"
      ],
      "metadata": {
        "colab": {
          "base_uri": "https://localhost:8080/",
          "height": 499
        },
        "id": "jmy_BqGK3iBb",
        "outputId": "f434ea7f-63a2-4f6c-9817-0fe8797c0680"
      },
      "execution_count": null,
      "outputs": [
        {
          "output_type": "display_data",
          "data": {
            "text/plain": [
              "<Figure size 600x600 with 9 Axes>"
            ],
            "image/png": "[encoded data removed]"
          },
          "metadata": {}
        }
      ]
    },
    {
      "cell_type": "code",
      "source": [
        "model_exp_3 = model.fit(train_images_distance, train_labels_distance, epochs=5)\n",
        "test_loss, test_acc = model.evaluate(test_images, test_labels, verbose=2)\n",
        "print('\\nTest accuracy:', test_acc)"
      ],
      "metadata": {
        "colab": {
          "base_uri": "https://localhost:8080/"
        },
        "id": "0cOguJ403rlm",
        "outputId": "5a67197d-352d-4c6d-d841-6bf09ef27866"
      },
      "execution_count": null,
      "outputs": [
        {
          "output_type": "stream",
          "name": "stdout",
          "text": [
            "Epoch 1/5\n",
            "1875/1875 [==============================] - 8s 4ms/step - loss: 0.4458 - accuracy: 0.8330\n",
            "Epoch 2/5\n",
            "1875/1875 [==============================] - 16s 8ms/step - loss: 0.3838 - accuracy: 0.8568\n",
            "Epoch 3/5\n",
            "1875/1875 [==============================] - 15s 8ms/step - loss: 0.3630 - accuracy: 0.8626\n",
            "Epoch 4/5\n",
            "1875/1875 [==============================] - 10s 6ms/step - loss: 0.3491 - accuracy: 0.8687\n",
            "Epoch 5/5\n",
            "1875/1875 [==============================] - 13s 7ms/step - loss: 0.3387 - accuracy: 0.8730\n",
            "313/313 - 1s - loss: 0.6363 - accuracy: 0.8309 - 570ms/epoch - 2ms/step\n",
            "\n",
            "Test accuracy: 0.8309000134468079\n"
          ]
        }
      ]
    },
    {
      "cell_type": "markdown",
      "source": [
        "**Experiment 4**: Image Denoise (non-local means denoising)\n",
        "\n",
        "Model accuracy: 87.66%\n"
      ],
      "metadata": {
        "id": "8jmtV44d4ZGI"
      }
    },
    {
      "cell_type": "code",
      "source": [
        "def denoise_images(images):\n",
        "    denoised_images = []\n",
        "    for img in images:\n",
        "        denoised = cv2.fastNlMeansDenoising((img * 255).astype(np.uint8), None, 30, 7, 21)\n",
        "        denoised_images.append(denoised / 255.0)\n",
        "    return np.array(denoised_images)\n",
        "\n",
        "# Apply denoising\n",
        "train_images_denoised = denoise_images(train_images[..., 0])\n",
        "train_images_denoised = train_images_denoised[..., np.newaxis]\n",
        "train_labels_denoised = train_labels\n",
        "\n",
        "# Display some denoised images\n",
        "plt.figure(figsize=(6, 6))\n",
        "for i in range(9):\n",
        "    plt.subplot(3, 3, i + 1)\n",
        "    plt.imshow(train_images_denoised[i].reshape(28, 28), cmap='gray')\n",
        "    plt.axis('off')\n",
        "plt.show()"
      ],
      "metadata": {
        "id": "iu6q98x34QJQ",
        "colab": {
          "base_uri": "https://localhost:8080/",
          "height": 499
        },
        "outputId": "867c1690-683a-4061-970e-699953cb633e"
      },
      "execution_count": 15,
      "outputs": [
        {
          "output_type": "display_data",
          "data": {
            "text/plain": [
              "<Figure size 600x600 with 9 Axes>"
            ],
            "image/png": "[encoded data removed]"
          },
          "metadata": {}
        }
      ]
    },
    {
      "cell_type": "code",
      "source": [
        "model_exp_4 = model.fit(train_images_denoised, train_labels_denoised, epochs=5)\n",
        "test_loss, test_acc = model.evaluate(test_images, test_labels, verbose=2)\n",
        "print('\\nTest accuracy:', test_acc)"
      ],
      "metadata": {
        "id": "I6zgzuhK4V9B",
        "colab": {
          "base_uri": "https://localhost:8080/"
        },
        "outputId": "8d49399d-5f49-489b-8b70-6932a024b8fb"
      },
      "execution_count": null,
      "outputs": [
        {
          "output_type": "stream",
          "name": "stdout",
          "text": [
            "Epoch 1/5\n",
            " 944/1875 [==============>...............] - ETA: 4s - loss: 0.4003 - accuracy: 0.8543"
          ]
        }
      ]
    },
    {
      "cell_type": "markdown",
      "source": [
        "**Experiment 5**: Image Denoise (Gaussian)\n",
        "\n",
        "Conclusion: Improved model performance to 87.95%.\n"
      ],
      "metadata": {
        "id": "GyRTHgSj5Gvr"
      }
    },
    {
      "cell_type": "code",
      "source": [
        "def apply_gaussian_blur(images, ksize=(5, 5)):\n",
        "    blurred_images = []\n",
        "    for img in images:\n",
        "        blurred = cv2.GaussianBlur((img * 255).astype(np.uint8), ksize, 0)\n",
        "        blurred_images.append(blurred / 255.0)\n",
        "    return np.array(blurred_images)\n",
        "\n",
        "# Apply Gaussian blur\n",
        "train_images_blurred = apply_gaussian_blur(train_images[..., 0])\n",
        "train_images_blurred = train_images_blurred[..., np.newaxis]\n",
        "train_labels_blurred = train_labels\n",
        "\n",
        "# Display some blurred images\n",
        "plt.figure(figsize=(6, 6))\n",
        "for i in range(9):\n",
        "    plt.subplot(3, 3, i + 1)\n",
        "    plt.imshow(train_images_blurred[i].reshape(28, 28), cmap='gray')\n",
        "    plt.axis('off')\n",
        "plt.show()"
      ],
      "metadata": {
        "id": "n3PiocIr4h6s"
      },
      "execution_count": null,
      "outputs": []
    },
    {
      "cell_type": "code",
      "source": [
        "model_exp_5 = model.fit(train_images_blurred, train_labels_blurred, epochs=5)\n",
        "test_loss, test_acc = model.evaluate(test_images, test_labels, verbose=2)\n",
        "print('\\nTest accuracy:', test_acc)"
      ],
      "metadata": {
        "id": "JCeJJ-G94lpw"
      },
      "execution_count": null,
      "outputs": []
    },
    {
      "cell_type": "markdown",
      "source": [
        "**Final result**: Combining all data augmentation techniques\n",
        "\n",
        "Model accuracy: 89.92%\n"
      ],
      "metadata": {
        "id": "WYj3lEc95H45"
      }
    },
    {
      "cell_type": "code",
      "source": [
        "train_images_combined = np.concatenate([train_images_hflip, train_images_vflip, train_images_distance, train_images_denoised, train_images_blurred], axis=0)\n",
        "train_labels_combined = np.concatenate([train_labels_hflip, train_labels_vflip, train_labels, train_labels, train_labels], axis=0)\n",
        "\n",
        "# Shuffled.\n",
        "indices = np.random.permutation(len(train_images_combined))\n",
        "train_images_combined = train_images_combined[indices]\n",
        "train_labels_combined = train_labels_combined[indices]"
      ],
      "metadata": {
        "id": "offY1O0-49fV"
      },
      "execution_count": null,
      "outputs": []
    },
    {
      "cell_type": "code",
      "source": [
        "model_combined = model.fit(train_images_combined, train_labels_combined, epochs=5, batch_size=512, validation_split=0.2, verbose=1)\n",
        "test_loss, test_acc = model.evaluate(test_images, test_labels, verbose=2)\n",
        "print('\\nTest accuracy:', test_acc)"
      ],
      "metadata": {
        "id": "nw-b4eWS4_zb"
      },
      "execution_count": null,
      "outputs": []
    },
    {
      "cell_type": "markdown",
      "source": [
        "### Alternative model structure.\n",
        "\n",
        "Consider adding drop out layers to reduce overfitting. This section does not yield significant results yet."
      ],
      "metadata": {
        "id": "sUdbBJlSLX8Y"
      }
    },
    {
      "cell_type": "code",
      "source": [
        "from tensorflow.python.keras.layers import Dense, Flatten, Conv2D, Dropout, MaxPooling2D\n",
        "\n",
        "# Explore a different model structure. Add a dropout layer to reduce overfitting.\n",
        "improved_model = keras.Sequential([\n",
        "    Flatten(input_shape=(28, 28)),  # Input layer.\n",
        "    Dense(256, activation='relu'),  # Hidden layer.\n",
        "    Dropout(0.4),  # Dropout layer\n",
        "    Dense(128, activation='relu'),  # Hidden layer.\n",
        "    Dropout(0.3),  # Dropout layer\n",
        "    Dense(64, activation='relu'),  # Hidden layer.\n",
        "    Dropout(0.2),  # Dropout layer\n",
        "    Dense(10, activation='softmax')  # Output layer for 10 classes\n",
        "])\n",
        "\n",
        "# Compile the model\n",
        "improved_model.compile(optimizer='adam',\n",
        "                       loss='sparse_categorical_crossentropy',  # Use sparse_categorical_crossentropy for integer labels\n",
        "                       metrics=['accuracy'])"
      ],
      "metadata": {
        "id": "O9X8PjalGARk"
      },
      "execution_count": null,
      "outputs": []
    },
    {
      "cell_type": "code",
      "source": [
        "new_model_combined = model.fit(x_train, y_train, epochs=5, batch_size=32, validation_split=0.2, verbose=1)\n",
        "test_loss, test_acc = model.evaluate(test_images, test_labels, verbose=2)\n",
        "print('\\nTest accuracy:', test_acc)"
      ],
      "metadata": {
        "id": "lu3o4aYyGlQG"
      },
      "execution_count": null,
      "outputs": []
    },
    {
      "cell_type": "markdown",
      "source": [
        "### Resources:\n",
        "1. https://www.tensorflow.org/tutorials/keras/classification\n",
        "2. https://www.kaggle.com/code/gpreda/cnn-with-tensorflow-keras-for-fashion-mnist (for alternative model structures)."
      ],
      "metadata": {
        "id": "jrx8q_H4Lzcz"
      }
    }
  ]
}